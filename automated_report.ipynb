{
 "cells": [
  {
   "cell_type": "code",
   "execution_count": 1,
   "id": "e8ba275e-91c1-4bfa-b935-f191d44cf144",
   "metadata": {},
   "outputs": [
    {
     "name": "stdout",
     "output_type": "stream",
     "text": [
      "CSV file 'student_scores.csv' created.\n",
      "PDF report 'student_report.pdf' generated successfully.\n"
     ]
    }
   ],
   "source": [
    "import pandas as pd\n",
    "from fpdf import FPDF\n",
    "\n",
    "# Step 1: Create CSV with student data\n",
    "data = {\n",
    "    \"Student Name\": [\"Aarav\", \"Diya\", \"Kabir\", \"Ishita\", \"Rohan\"],\n",
    "    \"Math\": [88, 92, 79, 85, 90],\n",
    "    \"Science\": [91, 89, 84, 76, 95],\n",
    "    \"English\": [85, 87, 90, 82, 88]\n",
    "}\n",
    "\n",
    "df = pd.DataFrame(data)\n",
    "csv_file = \"student_scores.csv\"\n",
    "df.to_csv(csv_file, index=False)\n",
    "print(f\"CSV file '{csv_file}' created.\")\n",
    "\n",
    "# Step 2: Read CSV and analyze\n",
    "df = pd.read_csv(csv_file)\n",
    "df[\"Average\"] = df[[\"Math\", \"Science\", \"English\"]].mean(axis=1).round(2)\n",
    "\n",
    "# Step 3: Generate PDF report\n",
    "pdf = FPDF()\n",
    "pdf.add_page()\n",
    "pdf.set_font(\"Arial\", 'B', 16)\n",
    "pdf.cell(0, 10, \"Student Score Report\", ln=True, align=\"C\")\n",
    "pdf.ln(10)\n",
    "\n",
    "# Table header\n",
    "pdf.set_font(\"Arial\", 'B', 12)\n",
    "col_width = pdf.w / 5  # Divide page width roughly for 5 columns\n",
    "headers = list(df.columns)\n",
    "for header in headers:\n",
    "    pdf.cell(col_width, 10, header, border=1, align=\"C\")\n",
    "pdf.ln()\n",
    "\n",
    "# Table rows\n",
    "pdf.set_font(\"Arial\", '', 12)\n",
    "for _, row in df.iterrows():\n",
    "    for item in row:\n",
    "        pdf.cell(col_width, 10, str(item), border=1, align=\"C\")\n",
    "    pdf.ln()\n",
    "\n",
    "pdf_file = \"student_report.pdf\"\n",
    "pdf.output(pdf_file)\n",
    "print(f\"PDF report '{pdf_file}' generated successfully.\")\n"
   ]
  },
  {
   "cell_type": "code",
   "execution_count": null,
   "id": "e5a693b8-97d9-4464-a8cc-feb2b4715e9d",
   "metadata": {},
   "outputs": [],
   "source": []
  }
 ],
 "metadata": {
  "kernelspec": {
   "display_name": "Python 3 (ipykernel)",
   "language": "python",
   "name": "python3"
  },
  "language_info": {
   "codemirror_mode": {
    "name": "ipython",
    "version": 3
   },
   "file_extension": ".py",
   "mimetype": "text/x-python",
   "name": "python",
   "nbconvert_exporter": "python",
   "pygments_lexer": "ipython3",
   "version": "3.13.4"
  }
 },
 "nbformat": 4,
 "nbformat_minor": 5
}
